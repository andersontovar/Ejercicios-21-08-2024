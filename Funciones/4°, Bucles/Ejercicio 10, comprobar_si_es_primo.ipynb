{
 "cells": [
  {
   "cell_type": "code",
   "execution_count": null,
   "metadata": {},
   "outputs": [],
   "source": [
    "'''Escribir un programa que pida al usuario un número entero y muestre por pantalla si es un número primo o no.'''"
   ]
  },
  {
   "cell_type": "code",
   "execution_count": 94,
   "metadata": {},
   "outputs": [
    {
     "name": "stdout",
     "output_type": "stream",
     "text": [
      "El numero 17 SI es primo\n"
     ]
    }
   ],
   "source": [
    "numero = int(input('Ingrese un numero entero para comprobar si es primo o no: '))\n",
    "\n",
    "if numero <= 1:\n",
    "    print('El numero debe ser mayor que 1')\n",
    "else:\n",
    "    primo = True\n",
    "    ''' \n",
    "    Se verifica que numero sea divisible por i en un rango de 2--numero, si el resultado es 0 significa que es divisible y NO es un numero primo\n",
    "    '''\n",
    "    for i in range(2, numero):\n",
    "        if numero % i == 0:\n",
    "            primo = False\n",
    "            break\n",
    "    '''\n",
    "    Saliendo del bucle, si el numero es True imprimira que es primo, pero si es False imprimira que no lo es\n",
    "    '''\n",
    "    if primo:\n",
    "        print(f'El numero {numero} SI es primo')\n",
    "    else:\n",
    "        print(f'El numero {numero} NO es primo')"
   ]
  }
 ],
 "metadata": {
  "kernelspec": {
   "display_name": "Python 3",
   "language": "python",
   "name": "python3"
  },
  "language_info": {
   "codemirror_mode": {
    "name": "ipython",
    "version": 3
   },
   "file_extension": ".py",
   "mimetype": "text/x-python",
   "name": "python",
   "nbconvert_exporter": "python",
   "pygments_lexer": "ipython3",
   "version": "3.12.5"
  }
 },
 "nbformat": 4,
 "nbformat_minor": 2
}
