{
 "cells": [
  {
   "cell_type": "code",
   "execution_count": 20,
   "metadata": {},
   "outputs": [
    {
     "name": "stdout",
     "output_type": "stream",
     "text": [
      "La contraseña es incorrecta, vuelve a intentar!\n",
      "La contraseña es incorrecta, vuelve a intentar!\n",
      "La contraseña es incorrecta, vuelve a intentar!\n",
      "La contraseña es incorrecta, vuelve a intentar!\n",
      "La contraseña es correcta\n"
     ]
    }
   ],
   "source": [
    "contraseña = input('¿Cual es la contraseña correcta?: ')\n",
    "\n",
    "password = 'contraseña'\n",
    "while password:\n",
    "    if contraseña.lower() == password:\n",
    "        print('La contraseña es correcta')\n",
    "        break\n",
    "    else:\n",
    "        print('La contraseña es incorrecta, vuelve a intentar!')\n",
    "        contraseña = input('¿Cual es la contraseña correcta?: ')"
   ]
  }
 ],
 "metadata": {
  "kernelspec": {
   "display_name": "Python 3",
   "language": "python",
   "name": "python3"
  },
  "language_info": {
   "codemirror_mode": {
    "name": "ipython",
    "version": 3
   },
   "file_extension": ".py",
   "mimetype": "text/x-python",
   "name": "python",
   "nbconvert_exporter": "python",
   "pygments_lexer": "ipython3",
   "version": "3.12.5"
  }
 },
 "nbformat": 4,
 "nbformat_minor": 2
}
