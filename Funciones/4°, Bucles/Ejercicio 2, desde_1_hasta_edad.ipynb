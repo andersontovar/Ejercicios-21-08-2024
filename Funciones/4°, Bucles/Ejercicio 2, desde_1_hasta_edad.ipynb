{
 "cells": [
  {
   "cell_type": "code",
   "execution_count": 6,
   "metadata": {},
   "outputs": [
    {
     "name": "stdout",
     "output_type": "stream",
     "text": [
      "1 años cumplido\n",
      "2 años cumplido\n",
      "3 años cumplido\n",
      "4 años cumplido\n",
      "5 años cumplido\n",
      "6 años cumplido\n",
      "7 años cumplido\n",
      "8 años cumplido\n",
      "9 años cumplido\n",
      "10 años cumplido\n",
      "11 años cumplido\n",
      "12 años cumplido\n",
      "13 años cumplido\n",
      "14 años cumplido\n",
      "15 años cumplido\n",
      "16 años cumplido\n",
      "17 años cumplido\n"
     ]
    }
   ],
   "source": [
    "edad = int(input('¿Cual es su edad?'))\n",
    "\n",
    "i = 1\n",
    "for i in range(edad):\n",
    "    i += 1\n",
    "    print(i, 'años cumplido')"
   ]
  }
 ],
 "metadata": {
  "kernelspec": {
   "display_name": "Python 3",
   "language": "python",
   "name": "python3"
  },
  "language_info": {
   "codemirror_mode": {
    "name": "ipython",
    "version": 3
   },
   "file_extension": ".py",
   "mimetype": "text/x-python",
   "name": "python",
   "nbconvert_exporter": "python",
   "pygments_lexer": "ipython3",
   "version": "3.12.5"
  }
 },
 "nbformat": 4,
 "nbformat_minor": 2
}
