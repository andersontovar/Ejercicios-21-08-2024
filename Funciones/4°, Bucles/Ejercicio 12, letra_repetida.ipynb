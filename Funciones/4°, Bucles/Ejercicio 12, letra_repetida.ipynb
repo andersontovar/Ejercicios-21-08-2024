{
 "cells": [
  {
   "cell_type": "code",
   "execution_count": 10,
   "metadata": {},
   "outputs": [
    {
     "name": "stdout",
     "output_type": "stream",
     "text": [
      "la letra \"a\" aparece 4 veces en la frase: \"juanito sale al parque\"\n"
     ]
    }
   ],
   "source": [
    "frase = input('Escriba una frase: ')\n",
    "letra = input('Ingrese una letra que desee saber cuantas veces se repite: ')\n",
    "\n",
    "contador = 0\n",
    "for i in frase:\n",
    "    if i == letra:\n",
    "        contador += 1\n",
    "print(f'la letra \"{letra}\" aparece {contador} veces en la frase: \"{frase}\"')"
   ]
  }
 ],
 "metadata": {
  "kernelspec": {
   "display_name": "Python 3",
   "language": "python",
   "name": "python3"
  },
  "language_info": {
   "codemirror_mode": {
    "name": "ipython",
    "version": 3
   },
   "file_extension": ".py",
   "mimetype": "text/x-python",
   "name": "python",
   "nbconvert_exporter": "python",
   "pygments_lexer": "ipython3",
   "version": "3.12.5"
  }
 },
 "nbformat": 4,
 "nbformat_minor": 2
}
