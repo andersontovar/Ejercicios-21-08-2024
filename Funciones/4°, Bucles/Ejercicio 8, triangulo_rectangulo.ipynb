{
 "cells": [
  {
   "cell_type": "code",
   "execution_count": 139,
   "metadata": {},
   "outputs": [
    {
     "name": "stdout",
     "output_type": "stream",
     "text": [
      "1  \n"
     ]
    }
   ],
   "source": [
    "numero_entero = int(input('Ingrese un numero entero para el triangulo rectangulo:'))\n",
    "\n",
    "if numero_entero > 0:\n",
    "    for i in range(1, numero_entero + 1, 2):\n",
    "        for j in range(i, 0, -2):\n",
    "            print(j, end=' ') # Separa todos los valores del resultado\n",
    "        print(' ') # Cuando se imprima el resultado arrojara el otro codigo en una linea diferente de texto\n",
    "else:\n",
    "    print('El numero debe ser mayor a 0')"
   ]
  }
 ],
 "metadata": {
  "kernelspec": {
   "display_name": "Python 3",
   "language": "python",
   "name": "python3"
  },
  "language_info": {
   "codemirror_mode": {
    "name": "ipython",
    "version": 3
   },
   "file_extension": ".py",
   "mimetype": "text/x-python",
   "name": "python",
   "nbconvert_exporter": "python",
   "pygments_lexer": "ipython3",
   "version": "3.12.5"
  }
 },
 "nbformat": 4,
 "nbformat_minor": 2
}
